{
 "cells": [
  {
   "cell_type": "markdown",
   "id": "6fae9b79",
   "metadata": {},
   "source": [
    "## Task_2"
   ]
  },
  {
   "cell_type": "markdown",
   "id": "5d3fb277",
   "metadata": {},
   "source": [
    "Дана PostgreSQL таблица с полями:\n",
    "\n",
    "● order_num\n",
    "\n",
    "● client_name\n",
    "\n",
    "● store_name, price.\n",
    "\n",
    "Эта таблица показывает соответственно номер заказа в таблице (уникальное\n",
    "значение, ключ), имя клиента (имя-фамилия), имя магазина, потраченную сумму в\n",
    "определенном магазине определенным клиентом.\n",
    "Задача: написать запрос, который бы показал, сколько денег потратил каждый\n",
    "человек.\n",
    "Бонус: написать запрос, который бы показал, сколько денег потратил каждый\n",
    "человек в каждом отдельном магазине.\n"
   ]
  },
  {
   "cell_type": "code",
   "execution_count": 1,
   "id": "d8c8f6ab",
   "metadata": {},
   "outputs": [],
   "source": [
    "# запрос, который бы показал, сколько денег потратил каждый человек"
   ]
  },
  {
   "cell_type": "markdown",
   "id": "f975ce78",
   "metadata": {},
   "source": [
    "SELECT \n",
    "\n",
    "client_name,\n",
    "\n",
    "SUM(CAST(split_part(\"store_name, price\", ', ', 2) AS float8)) AS summa_zatrat\n",
    "\n",
    "FROM public.loyalty_plant\n",
    "\n",
    "GROUP BY client_name"
   ]
  },
  {
   "cell_type": "code",
   "execution_count": 2,
   "id": "530bcdb2",
   "metadata": {},
   "outputs": [],
   "source": [
    "# запрос, который бы показал, сколько денег потратил каждый человек в каждом отдельном магазине."
   ]
  },
  {
   "cell_type": "markdown",
   "id": "dc7b5301",
   "metadata": {},
   "source": [
    "SELECT \n",
    "\n",
    "client_name,\n",
    "\n",
    "split_part(\"store_name, price\", ',', 1) AS store_name,\n",
    "\n",
    "SUM(CAST(split_part(\"store_name, price\", ',', 2) AS float8)) AS summa_zatrat\n",
    "\n",
    "FROM public.loyalty_plant\n",
    "\n",
    "GROUP BY client_name, store_name"
   ]
  }
 ],
 "metadata": {
  "kernelspec": {
   "display_name": "Python 3 (ipykernel)",
   "language": "python",
   "name": "python3"
  },
  "language_info": {
   "codemirror_mode": {
    "name": "ipython",
    "version": 3
   },
   "file_extension": ".py",
   "mimetype": "text/x-python",
   "name": "python",
   "nbconvert_exporter": "python",
   "pygments_lexer": "ipython3",
   "version": "3.9.13"
  }
 },
 "nbformat": 4,
 "nbformat_minor": 5
}
